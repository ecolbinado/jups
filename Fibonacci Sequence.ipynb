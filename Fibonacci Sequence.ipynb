{
 "cells": [
  {
   "cell_type": "markdown",
   "metadata": {},
   "source": [
    "# Fibonacci Sequence\n",
    "This program returns a slice of values from a fibonacci sequence."
   ]
  },
  {
   "cell_type": "code",
   "execution_count": 97,
   "metadata": {},
   "outputs": [],
   "source": [
    "def nearest(some_list, num):\n",
    "    # Returns the element on the list that is closest to 'num'.\n",
    "    return min(some_list, key = lambda x: abs(x - num))\n",
    "\n",
    "def fib_seq_bet_2nos(start, end):\n",
    "    # Returns a list that is a fibonacci sequence between two numbers; 'start' and 'end'.\n",
    "    if not type(start)==int or not type(end)==int:\n",
    "        # Error trapping for input numbers that are not integer. \n",
    "        print(\"start and/or end not an integer!\")\n",
    "        exit\n",
    "    else:\n",
    "        # Create a fibonacci sequence 'fs' with maximum number not greater than 'end'.\n",
    "        fs = [0,1] \n",
    "        i = len(fs) - 1\n",
    "        while not(fs[i]+fs[i-1]>end):      \n",
    "            fs.append(fs[i]+fs[i-1]) \n",
    "            i+=1\n",
    "        #print(fs)\n",
    "        try:\n",
    "            # Trim down 'fs' from 'start' to 'end', given 'start' is a fibonacci number.\n",
    "            trimmed_fs = fs[fs.index(start)::]\n",
    "        except ValueError:\n",
    "            # If 'start' is not a fibonacci number, use the nearest larger number than 'start'.\n",
    "            closest_start = nearest(fs,start) if start < nearest(fs,start) \\\n",
    "            else fs[fs.index(nearest(fs,start))+1]\n",
    "            #print(closest_start)\n",
    "            trimmed_fs = fs[fs.index(closest_start)::]\n",
    "    return trimmed_fs"
   ]
  },
  {
   "cell_type": "code",
   "execution_count": 98,
   "metadata": {},
   "outputs": [
    {
     "name": "stdout",
     "output_type": "stream",
     "text": [
      "[0, 1, 1, 2, 3, 5, 8, 13, 21, 34, 55, 89, 144]\n",
      "55\n"
     ]
    },
    {
     "data": {
      "text/plain": [
       "[55, 89, 144]"
      ]
     },
     "execution_count": 98,
     "metadata": {},
     "output_type": "execute_result"
    }
   ],
   "source": [
    "fib_seq_bet_2nos(35,200)"
   ]
  },
  {
   "cell_type": "code",
   "execution_count": null,
   "metadata": {},
   "outputs": [],
   "source": []
  }
 ],
 "metadata": {
  "kernelspec": {
   "display_name": "Python 3",
   "language": "python",
   "name": "python3"
  },
  "language_info": {
   "codemirror_mode": {
    "name": "ipython",
    "version": 3
   },
   "file_extension": ".py",
   "mimetype": "text/x-python",
   "name": "python",
   "nbconvert_exporter": "python",
   "pygments_lexer": "ipython3",
   "version": "3.6.5"
  }
 },
 "nbformat": 4,
 "nbformat_minor": 2
}
